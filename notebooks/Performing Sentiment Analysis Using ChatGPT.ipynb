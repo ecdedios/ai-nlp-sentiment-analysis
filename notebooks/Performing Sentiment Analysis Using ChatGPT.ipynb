{
 "cells": [
  {
   "cell_type": "markdown",
   "id": "8133b333-0908-4a30-beb2-929fbf425269",
   "metadata": {},
   "source": [
    "# Environment"
   ]
  },
  {
   "cell_type": "code",
   "execution_count": 1,
   "id": "8ad18b87-1571-49d7-b07c-e53f7e8596e5",
   "metadata": {},
   "outputs": [
    {
     "data": {
      "text/plain": [
       "True"
      ]
     },
     "execution_count": 1,
     "metadata": {},
     "output_type": "execute_result"
    }
   ],
   "source": [
    "import os\n",
    "from environs import Env\n",
    "\n",
    "env = Env()\n",
    "env.read_env(\".env\") # read .env file, if it exists"
   ]
  },
  {
   "cell_type": "code",
   "execution_count": 2,
   "id": "e84c92a0-cbe0-46d2-b9e7-168a85dea47c",
   "metadata": {},
   "outputs": [],
   "source": [
    "from openai import OpenAI\n",
    "import json\n",
    "import pandas as pd\n",
    "import matplotlib.pyplot as plt"
   ]
  },
  {
   "cell_type": "markdown",
   "id": "0fedc6e5-87da-4018-8137-d64810dc7d88",
   "metadata": {},
   "source": [
    "# Get the Data"
   ]
  },
  {
   "cell_type": "code",
   "execution_count": 3,
   "id": "2d5fafd8-4c03-4d8f-b9a1-26065d33b6a2",
   "metadata": {},
   "outputs": [
    {
     "data": {
      "text/html": [
       "<div>\n",
       "<style scoped>\n",
       "    .dataframe tbody tr th:only-of-type {\n",
       "        vertical-align: middle;\n",
       "    }\n",
       "\n",
       "    .dataframe tbody tr th {\n",
       "        vertical-align: top;\n",
       "    }\n",
       "\n",
       "    .dataframe thead th {\n",
       "        text-align: right;\n",
       "    }\n",
       "</style>\n",
       "<table border=\"1\" class=\"dataframe\">\n",
       "  <thead>\n",
       "    <tr style=\"text-align: right;\">\n",
       "      <th></th>\n",
       "      <th>id</th>\n",
       "      <th>site</th>\n",
       "      <th>label</th>\n",
       "      <th>tweet</th>\n",
       "    </tr>\n",
       "  </thead>\n",
       "  <tbody>\n",
       "    <tr>\n",
       "      <th>0</th>\n",
       "      <td>3364</td>\n",
       "      <td>Facebook</td>\n",
       "      <td>Irrelevant</td>\n",
       "      <td>I mentioned on Facebook that I was struggling ...</td>\n",
       "    </tr>\n",
       "    <tr>\n",
       "      <th>1</th>\n",
       "      <td>352</td>\n",
       "      <td>Amazon</td>\n",
       "      <td>Neutral</td>\n",
       "      <td>BBC News - Amazon boss Jeff Bezos rejects clai...</td>\n",
       "    </tr>\n",
       "    <tr>\n",
       "      <th>2</th>\n",
       "      <td>8312</td>\n",
       "      <td>Microsoft</td>\n",
       "      <td>Negative</td>\n",
       "      <td>@Microsoft Why do I pay for WORD when it funct...</td>\n",
       "    </tr>\n",
       "    <tr>\n",
       "      <th>3</th>\n",
       "      <td>4371</td>\n",
       "      <td>CS-GO</td>\n",
       "      <td>Negative</td>\n",
       "      <td>CSGO matchmaking is so full of closet hacking,...</td>\n",
       "    </tr>\n",
       "    <tr>\n",
       "      <th>4</th>\n",
       "      <td>4433</td>\n",
       "      <td>Google</td>\n",
       "      <td>Neutral</td>\n",
       "      <td>Now the President is slapping Americans in the...</td>\n",
       "    </tr>\n",
       "  </tbody>\n",
       "</table>\n",
       "</div>"
      ],
      "text/plain": [
       "     id       site       label  \\\n",
       "0  3364   Facebook  Irrelevant   \n",
       "1   352     Amazon     Neutral   \n",
       "2  8312  Microsoft    Negative   \n",
       "3  4371      CS-GO    Negative   \n",
       "4  4433     Google     Neutral   \n",
       "\n",
       "                                               tweet  \n",
       "0  I mentioned on Facebook that I was struggling ...  \n",
       "1  BBC News - Amazon boss Jeff Bezos rejects clai...  \n",
       "2  @Microsoft Why do I pay for WORD when it funct...  \n",
       "3  CSGO matchmaking is so full of closet hacking,...  \n",
       "4  Now the President is slapping Americans in the...  "
      ]
     },
     "execution_count": 3,
     "metadata": {},
     "output_type": "execute_result"
    }
   ],
   "source": [
    "df = pd.read_csv('../data/twitter_validation.csv', names=['id', 'site', 'label', 'tweet'], header=None)\n",
    "df.head()"
   ]
  },
  {
   "cell_type": "code",
   "execution_count": 4,
   "id": "1084e858-c3df-4b91-b97c-376e88be1655",
   "metadata": {},
   "outputs": [
    {
     "data": {
      "text/html": [
       "<div>\n",
       "<style scoped>\n",
       "    .dataframe tbody tr th:only-of-type {\n",
       "        vertical-align: middle;\n",
       "    }\n",
       "\n",
       "    .dataframe tbody tr th {\n",
       "        vertical-align: top;\n",
       "    }\n",
       "\n",
       "    .dataframe thead th {\n",
       "        text-align: right;\n",
       "    }\n",
       "</style>\n",
       "<table border=\"1\" class=\"dataframe\">\n",
       "  <thead>\n",
       "    <tr style=\"text-align: right;\">\n",
       "      <th></th>\n",
       "      <th>tweet</th>\n",
       "    </tr>\n",
       "  </thead>\n",
       "  <tbody>\n",
       "    <tr>\n",
       "      <th>0</th>\n",
       "      <td>I mentioned on Facebook that I was struggling ...</td>\n",
       "    </tr>\n",
       "    <tr>\n",
       "      <th>1</th>\n",
       "      <td>BBC News - Amazon boss Jeff Bezos rejects clai...</td>\n",
       "    </tr>\n",
       "    <tr>\n",
       "      <th>2</th>\n",
       "      <td>@Microsoft Why do I pay for WORD when it funct...</td>\n",
       "    </tr>\n",
       "    <tr>\n",
       "      <th>3</th>\n",
       "      <td>CSGO matchmaking is so full of closet hacking,...</td>\n",
       "    </tr>\n",
       "    <tr>\n",
       "      <th>4</th>\n",
       "      <td>Now the President is slapping Americans in the...</td>\n",
       "    </tr>\n",
       "  </tbody>\n",
       "</table>\n",
       "</div>"
      ],
      "text/plain": [
       "                                               tweet\n",
       "0  I mentioned on Facebook that I was struggling ...\n",
       "1  BBC News - Amazon boss Jeff Bezos rejects clai...\n",
       "2  @Microsoft Why do I pay for WORD when it funct...\n",
       "3  CSGO matchmaking is so full of closet hacking,...\n",
       "4  Now the President is slapping Americans in the..."
      ]
     },
     "execution_count": 4,
     "metadata": {},
     "output_type": "execute_result"
    }
   ],
   "source": [
    "df = df[['tweet']]\n",
    "df.head()"
   ]
  },
  {
   "cell_type": "code",
   "execution_count": 5,
   "id": "1f6eed23-5e01-47c9-893a-e3e83933ab3f",
   "metadata": {},
   "outputs": [],
   "source": [
    "sample_df = df.sample(25)                              # the sampled df with only 25 tweets"
   ]
  },
  {
   "cell_type": "markdown",
   "id": "a9b392dd-fcc8-44b8-b410-2bd4761b8a15",
   "metadata": {},
   "source": [
    "# OpenAI / Prompt Engineering"
   ]
  },
  {
   "cell_type": "code",
   "execution_count": 6,
   "id": "28e027fc-9b09-4880-a0e6-6ac75e791857",
   "metadata": {},
   "outputs": [],
   "source": [
    "client = OpenAI()"
   ]
  },
  {
   "cell_type": "code",
   "execution_count": 7,
   "id": "f2522661-767f-4b5b-9782-e2187b837a55",
   "metadata": {},
   "outputs": [
    {
     "name": "stdout",
     "output_type": "stream",
     "text": [
      "['@Rainbow6Game when will you ban mnk/cronos players on console? The game will die on ps/xbox because of that cheater. 😭', \"This is really interesting for indie RPGs with character portraits for NPCs. A game like The Age of Decadence has dozens of custom portraits, and those cost at least 150 dollars each, likely twice that, so it's a big price to pay for small teams.\", 'Man nothing makes me feel dumber than trying to play hearthstone', \"Red Dead Redemption 2 [Day 8] Can I shoot Micah? I don't like Micah. twitch.tv/nightmarebearer\", 'The Russians from cs:go are starting to invade Osu...', 'My advice when you suck like me \\n#Fortnite\\n#streamers\\n#Budget2020\\nvm.tiktok.com/ZMJfQKRPy/', 'Dusty depot 😌😌', \"Yo! @Verizon just added a $120 'fee' to my account under #COVID19 protection without my permission and I am forced to pay it! Check your bills carefully!\", 'Best trailers this decade\\n\\n1)CS GO\\n2)Baahubali 2\\n3) The Dark Knight Rises', 'I want to thank #SSKYWILDKATSSS for letting me run the new Borderlands 3 DLC with him last night. I had a lot of fun!', 'Too greedy?\\n#Hearthstone pic.twitter.com/caa4J0ZUKF', '#gtc20 -  nice, motivational, and very accessible Nvidia/AI product fair + related tech talks\\nnvidia.com/en-us/gtc/keyn…\\ninteresting interaction/social activities: braindates, dinner with strangers, ...  and free attendance for universities: reg.rainfocus.com/flow/nvidia/gt…', 'Wendie Renard loses Fifa trophy on a train and appeals for its return dlvr.it/RMNwq2', 'Old lady threatened me and said she was going to cancel her Verizon service because I told her we dont work on computers and cant fix it......like bro what🤣🤣', \"*runs around aimlessly on Red Dead Redemption 2 online... completely forgetting she's supposed to be getting animals for the trader role*\", 'Still stuck on this madden.  Forgot i was streaming while working 😂😂😂@MoBeSoSlim  @MissFoxxybrown @yeynotgaming @Bink_GGAB @Refuse2HoldBack @good2be_ATaylor \\n\\nIm tryna play yard tho who down?', 'Really enjoying the new 50bmg in #ModernWarfare , find it very satisfying hitting little clips like this (im not the best sniper but enjoy it) #CallofDuty\\n\\nThe Build I use is:\\nDictator barrel\\nTac laser\\nTac-Wrap stock\\nStippled grip\\nSleight of hand https://t.co/xZbblCYUZI', '#nba2k is a fucking joke', 'Bravo @riotgames always know how to get me hyped for the @LeagueOfLegends ranked season super excited💯', \"EXTRAORDINARY: Podcast about Deanna Berg's fight against bilateral ovarian #Cancer & her determination to hold Johnson & Johnson to account over its negligence in selling talc-based baby powder. \\nwitnesspodcasts.com/shows/verified…\", 'Not gonna lie that Black Ops cold war trailer was probably the best COD teaser I have ever seen', 'Praise and Shame for\\xa0Facebook mockpaperscissors.com/2020/06/18/pra…', 'sometimes i feel like such an old grandma playing games.... a few months ago i bought assassin’s creed origins bc it was on sale and like 20 minutes in i was like “hm... this is too violent for me!” and never touched it again SKSJSBSB', 'Shipped first GPU-enabled production code through #bravetools! #LXD  makes it easy to passthrough host hardware and @nvidia drivers, while bravetools abstracts configuration and makes it easy to automate for all future releases 🚀 #AI #devops #OpenSource \\n\\ngithub.com/bravetools/bra… https://t.co/92K5MYIaXx', \"Watching You Kalloori Perfect Situation Mystic River Tampa Prescott Dak Johnson Marcus Lego Harry Potter: Years 5-7 Mille Lacs Leonard Kawhi Ivan Rakitic Chilton Dan Glazer Jeff Carter Julio Garcia Algemarin L Borderlands 2 I'll Always Love You\\n\\nloveok.store/best-online-sh… https://t.co/AP6H8thDzT\"]\n"
     ]
    }
   ],
   "source": [
    "# List values of the 'tweet' column\n",
    "tweets = sample_df['tweet'].tolist()\n",
    "\n",
    "print(tweets)"
   ]
  },
  {
   "cell_type": "code",
   "execution_count": 8,
   "id": "083810f8-d968-4818-8896-d2cf8b4196e4",
   "metadata": {},
   "outputs": [],
   "source": [
    "list_responses = []\n",
    "for tweet in tweets:\n",
    "    response = client.chat.completions.create(\n",
    "      model=\"gpt-3.5-turbo-1106\",\n",
    "      response_format={ \"type\": \"json_object\" },\n",
    "      messages=[\n",
    "        {\"role\": \"system\", \"content\": 'You are a helpful assistant that categorizes tweets into sentiment and tone. Use \"Positive\", \"Negative\", or \"Neutral\" for sentiment. For each tweet, please state the sentiment, tone, and the tweet. Use the json format for the response.'},\n",
    "        {\"role\": \"user\", \"content\": tweet}\n",
    "      ]\n",
    "    )\n",
    "    \n",
    "    generated_content = response.choices[0].message.content\n",
    "    \n",
    "    list_responses.append(generated_content)"
   ]
  },
  {
   "cell_type": "markdown",
   "id": "855d36e7-0014-4b0c-a5f2-a30ff55ffcfb",
   "metadata": {},
   "source": [
    "# Storing the results into a dataframe"
   ]
  },
  {
   "cell_type": "code",
   "execution_count": 9,
   "id": "362f6e0c-b409-4fd2-be5d-ca0500111153",
   "metadata": {},
   "outputs": [
    {
     "name": "stdout",
     "output_type": "stream",
     "text": [
      "[\n",
      "    \"{\\n  \\\"sentiment\\\": \\\"Negative\\\",\\n  \\\"tone\\\": \\\"Frustrated\\\",\\n  \\\"tweet\\\": \\\"@Rainbow6Game when will you ban mnk/cronos players on console? The game will die on ps/xbox because of that cheater. \\ud83d\\ude2d\\\"\\n}\",\n",
      "    \"{\\n  \\\"sentiment\\\": \\\"Negative\\\",\\n  \\\"tone\\\": \\\"Neutral\\\",\\n  \\\"tweet\\\": \\\"This is really interesting for indie RPGs with character portraits for NPCs. A game like The Age of Decadence has dozens of custom portraits, and those cost at least 150 dollars each, likely twice that, so it's a big price to pay for small teams.\\\"\\n}\",\n",
      "    \"{\\n  \\\"sentiment\\\": \\\"Negative\\\",\\n  \\\"tone\\\": \\\"Frustration\\\",\\n  \\\"tweet\\\": \\\"Man nothing makes me feel dumber than trying to play hearthstone\\\"\\n}\",\n",
      "    \"{\\n  \\\"sentiment\\\": \\\"Negative\\\",\\n  \\\"tone\\\": \\\"Negative\\\",\\n  \\\"tweet\\\": \\\"Red Dead Redemption 2 [Day 8] Can I shoot Micah? I don't like Micah. twitch.tv/nightmarebearer\\\"\\n}\",\n",
      "    \"{\\n  \\\"sentiment\\\": \\\"Negative\\\",\\n  \\\"tone\\\": \\\"Concerned\\\",\\n  \\\"tweet\\\": \\\"The Russians from cs:go are starting to invade Osu...\\\"\\n}\",\n",
      "    \"{\\n  \\\"sentiment\\\": \\\"Neutral\\\",\\n  \\\"tone\\\": \\\"Informative\\\",\\n  \\\"tweet\\\": \\\"My advice when you suck like me #Fortnite #streamers #Budget2020 vm.tiktok.com/ZMJfQKRPy/\\\"\\n}\",\n",
      "    \"{\\n  \\\"sentiment\\\": \\\"Positive\\\",\\n  \\\"tone\\\": \\\"Relaxed\\\",\\n  \\\"tweet\\\": \\\"Dusty depot \\ud83d\\ude0c\\ud83d\\ude0c\\\"\\n}\",\n",
      "    \"{\\n  \\\"sentiment\\\": \\\"Negative\\\",\\n  \\\"tone\\\": \\\"Angry\\\",\\n  \\\"tweet\\\": \\\"Yo! @Verizon just added a $120 'fee' to my account under #COVID19 protection without my permission and I am forced to pay it! Check your bills carefully!\\\"\\n}\",\n",
      "    \"{\\n  \\\"tweets\\\": [\\n    {\\n      \\\"sentiment\\\": \\\"Positive\\\",\\n      \\\"tone\\\": \\\"Neutral\\\",\\n      \\\"tweet\\\": \\\"Best trailers this decade 1)CS GO 2)Baahubali 2 3) The Dark Knight Rises\\\"\\n    }\\n  ]\\n}\",\n",
      "    \"{\\n  \\\"sentiment\\\": \\\"Positive\\\",\\n  \\\"tone\\\": \\\"Grateful\\\",\\n  \\\"tweet\\\": \\\"I want to thank #SSKYWILDKATSSS for letting me run the new Borderlands 3 DLC with him last night. I had a lot of fun!\\\"\\n}\",\n",
      "    \"{\\n  \\\"sentiment\\\": \\\"Neutral\\\",\\n  \\\"tone\\\": \\\"Neutral\\\",\\n  \\\"tweet\\\": \\\"Too greedy? #Hearthstone pic.twitter.com/caa4J0ZUKF\\\"\\n}\",\n",
      "    \"{\\n  \\\"sentiment\\\": \\\"Positive\\\",\\n  \\\"tone\\\": \\\"Motivational\\\",\\n  \\\"tweet\\\": \\\"#gtc20 - nice, motivational, and very accessible Nvidia/AI product fair + related tech talks nvidia.com/en-us/gtc/keyn\\u2026 interesting interaction/social activities: braindates, dinner with strangers, ... and free attendance for universities: reg.rainfocus.com/flow/nvidia/gt\\u2026\\\"\\n}\",\n",
      "    \"{\\n  \\\"sentiment\\\": \\\"Neutral\\\",\\n  \\\"tone\\\": \\\"Neutral\\\",\\n  \\\"tweet\\\": \\\"Wendie Renard loses Fifa trophy on a train and appeals for its return dlvr.it/RMNwq2\\\"\\n}\",\n",
      "    \"{\\n  \\\"sentiment\\\": \\\"Negative\\\",\\n  \\\"tone\\\": \\\"Negative\\\",\\n  \\\"tweet\\\": \\\"Old lady threatened me and said she was going to cancel her Verizon service because I told her we dont work on computers and cant fix it......like bro what\\ud83e\\udd23\\ud83e\\udd23\\\"\\n}\",\n",
      "    \"{\\n  \\\"sentiment\\\": \\\"Neutral\\\",\\n  \\\"tone\\\": \\\"Amused\\\",\\n  \\\"tweet\\\": \\\"*runs around aimlessly on Red Dead Redemption 2 online... completely forgetting she's supposed to be getting animals for the trader role*\\\"\\n}\",\n",
      "    \"{\\n  \\\"sentiment\\\": \\\"Neutral\\\",\\n  \\\"tone\\\": \\\"Casual\\\",\\n  \\\"tweet\\\": \\\"Still stuck on this madden. Forgot i was streaming while working \\\\n@MoBeSoSlim @MissFoxxybrown @yeynotgaming @Bink_GGAB @Refuse2HoldBack @good2be_ATaylor\\\\nIm tryna play yard tho who down?\\\"\\n}\",\n",
      "    \"{\\n  \\\"sentiment\\\": \\\"Positive\\\",\\n  \\\"tone\\\": \\\"Satisfied\\\",\\n  \\\"tweet\\\": \\\"Really enjoying the new 50bmg in #ModernWarfare , find it very satisfying hitting little clips like this (im not the best sniper but enjoy it) #CallofDuty\\\"\\n}\",\n",
      "    \"{\\n  \\\"sentiment\\\": \\\"Negative\\\",\\n  \\\"tone\\\": \\\"Angry\\\",\\n  \\\"tweet\\\": \\\"#nba2k is a fucking joke\\\"\\n}\",\n",
      "    \"{\\n  \\\"sentiment\\\": \\\"Positive\\\",\\n  \\\"tone\\\": \\\"Excited\\\",\\n  \\\"tweet\\\": \\\"Bravo @riotgames always know how to get me hyped for the @LeagueOfLegends ranked season super excited\\ud83d\\udcaf\\\"\\n}\",\n",
      "    \"{\\n  \\\"sentiment\\\": \\\"Negative\\\",\\n  \\\"tone\\\": \\\"Concerned\\\",\\n  \\\"tweet\\\": \\\"Podcast about Deanna Berg's fight against bilateral ovarian #Cancer & her determination to hold Johnson & Johnson to account over its negligence in selling talc-based baby powder.\\\"\\n}\",\n",
      "    \"{\\n  \\\"sentiment\\\": \\\"Positive\\\",\\n  \\\"tone\\\": \\\"Appreciative\\\",\\n  \\\"tweet\\\": \\\"Not gonna lie that Black Ops cold war trailer was probably the best COD teaser I have ever seen\\\"\\n}\",\n",
      "    \"{\\n\\t\\\"sentiment\\\": \\\"Neutral\\\",\\n\\t\\\"tone\\\": \\\"Neutral\\\",\\n\\t\\\"tweet\\\": \\\"Praise and Shame for Facebook mockpaperscissors.com/2020/06/18/pra\\u2026\\\"\\n}\",\n",
      "    \"{\\n  \\\"sentiment\\\": \\\"Negative\\\",\\n  \\\"tone\\\": \\\"Humorous\\\",\\n  \\\"tweet\\\": \\\"sometimes i feel like such an old grandma playing games.... a few months ago i bought assassin\\u2019s creed origins bc it was on sale and like 20 minutes in i was like \\u201chm... this is too violent for me!\\u201d and never touched it again SKSJSBSB\\\"\\n}\",\n",
      "    \"{\\n  \\\"sentiment\\\": \\\"Positive\\\",\\n  \\\"tone\\\": \\\"Excited\\\",\\n  \\\"tweet\\\": \\\"Shipped first GPU-enabled production code through #bravetools! #LXD  makes it easy to passthrough host hardware and @nvidia drivers, while bravetools abstracts configuration and makes it easy to automate for all future releases \\ud83d\\ude80 #AI #devops #OpenSource github.com/bravetools/bra\\u2026 https://t.co/92K5MYIaXx\\\"\\n}\",\n",
      "    \"{\\n  \\\"sentiment\\\": \\\"Neutral\\\",\\n  \\\"tone\\\": \\\"Neutral\\\",\\n  \\\"tweet\\\": \\\"Watching You Kalloori Perfect Situation Mystic River Tampa Prescott Dak Johnson Marcus Lego Harry Potter: Years 5-7 Mille Lacs Leonard Kawhi Ivan Rakitic Chilton Dan Glazer Jeff Carter Julio Garcia Algemarin L Borderlands 2 I'll Always Love You loveok.store/best-online-sh\\u2026 https://t.co/AP6H8thDzT\\\"\\n}\"\n",
      "]\n"
     ]
    }
   ],
   "source": [
    "# Convert the list of JSON objects to a JSON-formatted string\n",
    "json_string_responses = json.dumps(list_responses, indent=4)  # indent parameter for pretty formatting (optional)\n",
    "\n",
    "# Print or use the JSON-formatted string as needed\n",
    "print(json_string_responses)"
   ]
  },
  {
   "cell_type": "code",
   "execution_count": 10,
   "id": "746bb772-bd1e-4e2f-9b3a-fabb7286c603",
   "metadata": {},
   "outputs": [
    {
     "name": "stdout",
     "output_type": "stream",
     "text": [
      "<class 'list'>\n"
     ]
    }
   ],
   "source": [
    "# Load the JSON array as a list\n",
    "json_list_responses = json.loads(json_string_responses)\n",
    "\n",
    "# Print or use the resulting list\n",
    "print(type(json_list_responses))"
   ]
  },
  {
   "cell_type": "code",
   "execution_count": 11,
   "id": "edbb0883-37b1-48ff-a4aa-20b6d194f2e1",
   "metadata": {},
   "outputs": [
    {
     "data": {
      "text/html": [
       "<div>\n",
       "<style scoped>\n",
       "    .dataframe tbody tr th:only-of-type {\n",
       "        vertical-align: middle;\n",
       "    }\n",
       "\n",
       "    .dataframe tbody tr th {\n",
       "        vertical-align: top;\n",
       "    }\n",
       "\n",
       "    .dataframe thead th {\n",
       "        text-align: right;\n",
       "    }\n",
       "</style>\n",
       "<table border=\"1\" class=\"dataframe\">\n",
       "  <thead>\n",
       "    <tr style=\"text-align: right;\">\n",
       "      <th></th>\n",
       "      <th>sentiment</th>\n",
       "      <th>tone</th>\n",
       "      <th>tweet</th>\n",
       "      <th>tweets</th>\n",
       "    </tr>\n",
       "  </thead>\n",
       "  <tbody>\n",
       "    <tr>\n",
       "      <th>0</th>\n",
       "      <td>Negative</td>\n",
       "      <td>Frustrated</td>\n",
       "      <td>@Rainbow6Game when will you ban mnk/cronos pla...</td>\n",
       "      <td>NaN</td>\n",
       "    </tr>\n",
       "    <tr>\n",
       "      <th>1</th>\n",
       "      <td>Negative</td>\n",
       "      <td>Neutral</td>\n",
       "      <td>This is really interesting for indie RPGs with...</td>\n",
       "      <td>NaN</td>\n",
       "    </tr>\n",
       "    <tr>\n",
       "      <th>2</th>\n",
       "      <td>Negative</td>\n",
       "      <td>Frustration</td>\n",
       "      <td>Man nothing makes me feel dumber than trying t...</td>\n",
       "      <td>NaN</td>\n",
       "    </tr>\n",
       "    <tr>\n",
       "      <th>3</th>\n",
       "      <td>Negative</td>\n",
       "      <td>Negative</td>\n",
       "      <td>Red Dead Redemption 2 [Day 8] Can I shoot Mica...</td>\n",
       "      <td>NaN</td>\n",
       "    </tr>\n",
       "    <tr>\n",
       "      <th>4</th>\n",
       "      <td>Negative</td>\n",
       "      <td>Concerned</td>\n",
       "      <td>The Russians from cs:go are starting to invade...</td>\n",
       "      <td>NaN</td>\n",
       "    </tr>\n",
       "    <tr>\n",
       "      <th>5</th>\n",
       "      <td>Neutral</td>\n",
       "      <td>Informative</td>\n",
       "      <td>My advice when you suck like me #Fortnite #str...</td>\n",
       "      <td>NaN</td>\n",
       "    </tr>\n",
       "    <tr>\n",
       "      <th>6</th>\n",
       "      <td>Positive</td>\n",
       "      <td>Relaxed</td>\n",
       "      <td>Dusty depot 😌😌</td>\n",
       "      <td>NaN</td>\n",
       "    </tr>\n",
       "    <tr>\n",
       "      <th>7</th>\n",
       "      <td>Negative</td>\n",
       "      <td>Angry</td>\n",
       "      <td>Yo! @Verizon just added a $120 'fee' to my acc...</td>\n",
       "      <td>NaN</td>\n",
       "    </tr>\n",
       "    <tr>\n",
       "      <th>8</th>\n",
       "      <td>NaN</td>\n",
       "      <td>NaN</td>\n",
       "      <td>NaN</td>\n",
       "      <td>[{'sentiment': 'Positive', 'tone': 'Neutral', ...</td>\n",
       "    </tr>\n",
       "    <tr>\n",
       "      <th>9</th>\n",
       "      <td>Positive</td>\n",
       "      <td>Grateful</td>\n",
       "      <td>I want to thank #SSKYWILDKATSSS for letting me...</td>\n",
       "      <td>NaN</td>\n",
       "    </tr>\n",
       "    <tr>\n",
       "      <th>10</th>\n",
       "      <td>Neutral</td>\n",
       "      <td>Neutral</td>\n",
       "      <td>Too greedy? #Hearthstone pic.twitter.com/caa4J...</td>\n",
       "      <td>NaN</td>\n",
       "    </tr>\n",
       "    <tr>\n",
       "      <th>11</th>\n",
       "      <td>Positive</td>\n",
       "      <td>Motivational</td>\n",
       "      <td>#gtc20 - nice, motivational, and very accessib...</td>\n",
       "      <td>NaN</td>\n",
       "    </tr>\n",
       "    <tr>\n",
       "      <th>12</th>\n",
       "      <td>Neutral</td>\n",
       "      <td>Neutral</td>\n",
       "      <td>Wendie Renard loses Fifa trophy on a train and...</td>\n",
       "      <td>NaN</td>\n",
       "    </tr>\n",
       "    <tr>\n",
       "      <th>13</th>\n",
       "      <td>Negative</td>\n",
       "      <td>Negative</td>\n",
       "      <td>Old lady threatened me and said she was going ...</td>\n",
       "      <td>NaN</td>\n",
       "    </tr>\n",
       "    <tr>\n",
       "      <th>14</th>\n",
       "      <td>Neutral</td>\n",
       "      <td>Amused</td>\n",
       "      <td>*runs around aimlessly on Red Dead Redemption ...</td>\n",
       "      <td>NaN</td>\n",
       "    </tr>\n",
       "    <tr>\n",
       "      <th>15</th>\n",
       "      <td>Neutral</td>\n",
       "      <td>Casual</td>\n",
       "      <td>Still stuck on this madden. Forgot i was strea...</td>\n",
       "      <td>NaN</td>\n",
       "    </tr>\n",
       "    <tr>\n",
       "      <th>16</th>\n",
       "      <td>Positive</td>\n",
       "      <td>Satisfied</td>\n",
       "      <td>Really enjoying the new 50bmg in #ModernWarfar...</td>\n",
       "      <td>NaN</td>\n",
       "    </tr>\n",
       "    <tr>\n",
       "      <th>17</th>\n",
       "      <td>Negative</td>\n",
       "      <td>Angry</td>\n",
       "      <td>#nba2k is a fucking joke</td>\n",
       "      <td>NaN</td>\n",
       "    </tr>\n",
       "    <tr>\n",
       "      <th>18</th>\n",
       "      <td>Positive</td>\n",
       "      <td>Excited</td>\n",
       "      <td>Bravo @riotgames always know how to get me hyp...</td>\n",
       "      <td>NaN</td>\n",
       "    </tr>\n",
       "    <tr>\n",
       "      <th>19</th>\n",
       "      <td>Negative</td>\n",
       "      <td>Concerned</td>\n",
       "      <td>Podcast about Deanna Berg's fight against bila...</td>\n",
       "      <td>NaN</td>\n",
       "    </tr>\n",
       "    <tr>\n",
       "      <th>20</th>\n",
       "      <td>Positive</td>\n",
       "      <td>Appreciative</td>\n",
       "      <td>Not gonna lie that Black Ops cold war trailer ...</td>\n",
       "      <td>NaN</td>\n",
       "    </tr>\n",
       "    <tr>\n",
       "      <th>21</th>\n",
       "      <td>Neutral</td>\n",
       "      <td>Neutral</td>\n",
       "      <td>Praise and Shame for Facebook mockpaperscissor...</td>\n",
       "      <td>NaN</td>\n",
       "    </tr>\n",
       "    <tr>\n",
       "      <th>22</th>\n",
       "      <td>Negative</td>\n",
       "      <td>Humorous</td>\n",
       "      <td>sometimes i feel like such an old grandma play...</td>\n",
       "      <td>NaN</td>\n",
       "    </tr>\n",
       "    <tr>\n",
       "      <th>23</th>\n",
       "      <td>Positive</td>\n",
       "      <td>Excited</td>\n",
       "      <td>Shipped first GPU-enabled production code thro...</td>\n",
       "      <td>NaN</td>\n",
       "    </tr>\n",
       "    <tr>\n",
       "      <th>24</th>\n",
       "      <td>Neutral</td>\n",
       "      <td>Neutral</td>\n",
       "      <td>Watching You Kalloori Perfect Situation Mystic...</td>\n",
       "      <td>NaN</td>\n",
       "    </tr>\n",
       "  </tbody>\n",
       "</table>\n",
       "</div>"
      ],
      "text/plain": [
       "   sentiment          tone                                              tweet  \\\n",
       "0   Negative    Frustrated  @Rainbow6Game when will you ban mnk/cronos pla...   \n",
       "1   Negative       Neutral  This is really interesting for indie RPGs with...   \n",
       "2   Negative   Frustration  Man nothing makes me feel dumber than trying t...   \n",
       "3   Negative      Negative  Red Dead Redemption 2 [Day 8] Can I shoot Mica...   \n",
       "4   Negative     Concerned  The Russians from cs:go are starting to invade...   \n",
       "5    Neutral   Informative  My advice when you suck like me #Fortnite #str...   \n",
       "6   Positive       Relaxed                                     Dusty depot 😌😌   \n",
       "7   Negative         Angry  Yo! @Verizon just added a $120 'fee' to my acc...   \n",
       "8        NaN           NaN                                                NaN   \n",
       "9   Positive      Grateful  I want to thank #SSKYWILDKATSSS for letting me...   \n",
       "10   Neutral       Neutral  Too greedy? #Hearthstone pic.twitter.com/caa4J...   \n",
       "11  Positive  Motivational  #gtc20 - nice, motivational, and very accessib...   \n",
       "12   Neutral       Neutral  Wendie Renard loses Fifa trophy on a train and...   \n",
       "13  Negative      Negative  Old lady threatened me and said she was going ...   \n",
       "14   Neutral        Amused  *runs around aimlessly on Red Dead Redemption ...   \n",
       "15   Neutral        Casual  Still stuck on this madden. Forgot i was strea...   \n",
       "16  Positive     Satisfied  Really enjoying the new 50bmg in #ModernWarfar...   \n",
       "17  Negative         Angry                           #nba2k is a fucking joke   \n",
       "18  Positive       Excited  Bravo @riotgames always know how to get me hyp...   \n",
       "19  Negative     Concerned  Podcast about Deanna Berg's fight against bila...   \n",
       "20  Positive  Appreciative  Not gonna lie that Black Ops cold war trailer ...   \n",
       "21   Neutral       Neutral  Praise and Shame for Facebook mockpaperscissor...   \n",
       "22  Negative      Humorous  sometimes i feel like such an old grandma play...   \n",
       "23  Positive       Excited  Shipped first GPU-enabled production code thro...   \n",
       "24   Neutral       Neutral  Watching You Kalloori Perfect Situation Mystic...   \n",
       "\n",
       "                                               tweets  \n",
       "0                                                 NaN  \n",
       "1                                                 NaN  \n",
       "2                                                 NaN  \n",
       "3                                                 NaN  \n",
       "4                                                 NaN  \n",
       "5                                                 NaN  \n",
       "6                                                 NaN  \n",
       "7                                                 NaN  \n",
       "8   [{'sentiment': 'Positive', 'tone': 'Neutral', ...  \n",
       "9                                                 NaN  \n",
       "10                                                NaN  \n",
       "11                                                NaN  \n",
       "12                                                NaN  \n",
       "13                                                NaN  \n",
       "14                                                NaN  \n",
       "15                                                NaN  \n",
       "16                                                NaN  \n",
       "17                                                NaN  \n",
       "18                                                NaN  \n",
       "19                                                NaN  \n",
       "20                                                NaN  \n",
       "21                                                NaN  \n",
       "22                                                NaN  \n",
       "23                                                NaN  \n",
       "24                                                NaN  "
      ]
     },
     "execution_count": 11,
     "metadata": {},
     "output_type": "execute_result"
    }
   ],
   "source": [
    "# Convert JSON strings to Python dictionaries\n",
    "parsed_data = [json.loads(item) for item in json_list_responses]\n",
    "\n",
    "# Create DataFrame with columns \"sentiment,\" \"tone,\" and \"tweet\"\n",
    "result_df = pd.json_normalize(parsed_data)\n",
    "result_df"
   ]
  },
  {
   "cell_type": "markdown",
   "id": "50494265-4b21-4083-9802-b47df679718f",
   "metadata": {},
   "source": [
    "# Save results"
   ]
  },
  {
   "cell_type": "code",
   "execution_count": 12,
   "id": "52ef2dd3-7171-4b5f-af3e-c8463b891013",
   "metadata": {},
   "outputs": [],
   "source": [
    "result_df.to_csv('../data/result.csv', index=False)"
   ]
  },
  {
   "cell_type": "markdown",
   "id": "84301f33-6ad1-4d1f-8277-a19bb04e62fc",
   "metadata": {},
   "source": [
    "# Visualization"
   ]
  },
  {
   "cell_type": "code",
   "execution_count": 13,
   "id": "0f6bec89-235b-437e-afe6-812a970cff09",
   "metadata": {},
   "outputs": [],
   "source": [
    "positive_df = result_df[result_df[\"sentiment\"]==\"Positive\"]\n",
    "negative_df = result_df[result_df[\"sentiment\"]==\"Negative\"]\n",
    "neutral_df = result_df[result_df[\"sentiment\"]==\"Neutral\"]"
   ]
  },
  {
   "cell_type": "code",
   "execution_count": 14,
   "id": "41d56a86-b24a-4ca7-86f8-fdeb3167d95f",
   "metadata": {},
   "outputs": [
    {
     "data": {
      "text/plain": [
       "([<matplotlib.patches.Wedge at 0x1697ad9c760>,\n",
       "  <matplotlib.patches.Wedge at 0x1697ad9c1f0>,\n",
       "  <matplotlib.patches.Wedge at 0x1697ae626d0>],\n",
       " [Text(0.2847009827728237, 1.0625184000327659, 'Negative'),\n",
       "  Text(-1.0162675251747608, -0.42095168045176784, 'Neutral'),\n",
       "  Text(0.6696374357312337, -0.8726887788136719, 'Positive')],\n",
       " [Text(0.1552914451488129, 0.5795554909269631, '41.7%\\n10'),\n",
       "  Text(-0.5543277410044148, -0.22961000751914606, '29.2%\\n7'),\n",
       "  Text(0.36525678312612747, -0.47601206117109374, '29.2%\\n7')])"
      ]
     },
     "execution_count": 14,
     "metadata": {},
     "output_type": "execute_result"
    },
    {
     "data": {
      "image/png": "[encoded data removed]",
      "text/plain": [
       "<Figure size 1000x800 with 1 Axes>"
      ]
     },
     "metadata": {},
     "output_type": "display_data"
    }
   ],
   "source": [
    "# https://stackoverflow.com/questions/73616867/pie-chart-from-count-of-values-showing-the-percentage\n",
    "total = result_df['sentiment'].value_counts().values.sum()\n",
    "\n",
    "def fmt(x):\n",
    "    return '{:.1f}%\\n{:.0f}'.format(x, total*x/100)\n",
    "plt.figure(figsize=(10,8))\n",
    "plt.pie(result_df['sentiment'].value_counts().values, labels=result_df['sentiment'].value_counts().index, autopct=fmt)"
   ]
  },
  {
   "cell_type": "code",
   "execution_count": 15,
   "id": "f470e66c-7748-4bd1-b756-ae8afe5f62dc",
   "metadata": {},
   "outputs": [
    {
     "data": {
      "text/plain": [
       "Text(0.5, 1.0, 'Positive Sentiment')"
      ]
     },
     "execution_count": 15,
     "metadata": {},
     "output_type": "execute_result"
    },
    {
     "data": {
      "image/png": "[encoded data removed]",
      "text/plain": [
       "<Figure size 1000x600 with 1 Axes>"
      ]
     },
     "metadata": {},
     "output_type": "display_data"
    }
   ],
   "source": [
    "positive_df['tone'].value_counts().plot(kind='barh', figsize=(10,6), color=\"green\").invert_yaxis()\n",
    "plt.ylabel('Tone')\n",
    "plt.xlabel('Number of Tweets')\n",
    "plt.title(\"Positive Sentiment\", fontweight='bold', color = 'orange', fontsize='12', horizontalalignment='center')"
   ]
  },
  {
   "cell_type": "code",
   "execution_count": 16,
   "id": "72c75692-7ef6-46b9-a2ae-25e8138d86e8",
   "metadata": {},
   "outputs": [
    {
     "data": {
      "text/plain": [
       "Text(0.5, 1.0, 'Negative Sentiment')"
      ]
     },
     "execution_count": 16,
     "metadata": {},
     "output_type": "execute_result"
    },
    {
     "data": {
      "image/png": "[encoded data removed]",
      "text/plain": [
       "<Figure size 1000x600 with 1 Axes>"
      ]
     },
     "metadata": {},
     "output_type": "display_data"
    }
   ],
   "source": [
    "negative_df['tone'].value_counts().plot(kind='barh', figsize=(10,6), color=\"red\").invert_yaxis()\n",
    "plt.ylabel('Tone')\n",
    "plt.xlabel('Number of Tweets')\n",
    "plt.title(\"Negative Sentiment\", fontweight='bold', color = 'orange', fontsize='12', horizontalalignment='center')"
   ]
  },
  {
   "cell_type": "code",
   "execution_count": 17,
   "id": "eb39233d-26f3-4fb3-bd5b-e7320560020b",
   "metadata": {},
   "outputs": [
    {
     "data": {
      "text/plain": [
       "Text(0.5, 1.0, 'Neutral Sentiment')"
      ]
     },
     "execution_count": 17,
     "metadata": {},
     "output_type": "execute_result"
    },
    {
     "data": {
      "image/png": "[encoded data removed]",
      "text/plain": [
       "<Figure size 1000x600 with 1 Axes>"
      ]
     },
     "metadata": {},
     "output_type": "display_data"
    }
   ],
   "source": [
    "neutral_df['tone'].value_counts().plot(kind='barh', figsize=(10,6), color=\"blue\").invert_yaxis()\n",
    "plt.ylabel('Tone')\n",
    "plt.xlabel('Number of Tweets')\n",
    "plt.title(\"Neutral Sentiment\", fontweight='bold', color = 'orange', fontsize='12', horizontalalignment='center')"
   ]
  }
 ],
 "metadata": {
  "kernelspec": {
   "display_name": "Python 3 (ipykernel)",
   "language": "python",
   "name": "python3"
  },
  "language_info": {
   "codemirror_mode": {
    "name": "ipython",
    "version": 3
   },
   "file_extension": ".py",
   "mimetype": "text/x-python",
   "name": "python",
   "nbconvert_exporter": "python",
   "pygments_lexer": "ipython3",
   "version": "3.9.9"
  }
 },
 "nbformat": 4,
 "nbformat_minor": 5
}
