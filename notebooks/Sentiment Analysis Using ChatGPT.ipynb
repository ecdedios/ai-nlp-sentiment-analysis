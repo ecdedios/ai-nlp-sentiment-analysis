{
 "cells": [
  {
   "cell_type": "code",
   "execution_count": 1,
   "id": "ec12459e-057c-4b11-9014-a8d9e6c6b683",
   "metadata": {},
   "outputs": [],
   "source": [
    "import os\n",
    "from environs import Env\n",
    "\n",
    "from openai import OpenAI\n",
    "import json\n",
    "import pandas as pd"
   ]
  },
  {
   "cell_type": "code",
   "execution_count": 2,
   "id": "1963ae27-00c7-454a-a672-8c6843c86c5e",
   "metadata": {},
   "outputs": [],
   "source": [
    "# to print out all the outputs\n",
    "from IPython.core.interactiveshell import InteractiveShell\n",
    "InteractiveShell.ast_node_interactivity = \"all\"\n",
    "\n",
    "# set display options\n",
    "pd.set_option('display.max_columns', None)\n",
    "pd.set_option('display.max_rows', None)\n",
    "pd.set_option('display.max_colwidth', None)"
   ]
  },
  {
   "cell_type": "code",
   "execution_count": 3,
   "id": "86e18a55-27f4-47ad-ba5d-b99f71987b4f",
   "metadata": {},
   "outputs": [
    {
     "data": {
      "text/plain": [
       "True"
      ]
     },
     "execution_count": 3,
     "metadata": {},
     "output_type": "execute_result"
    }
   ],
   "source": [
    "env = Env()\n",
    "env.read_env(\".env\") # read .env file, if it exists\n",
    "\n",
    "# api_key = os.getenv(\"OPENAI_API_KEY\")"
   ]
  },
  {
   "cell_type": "code",
   "execution_count": 4,
   "id": "2d5fafd8-4c03-4d8f-b9a1-26065d33b6a2",
   "metadata": {},
   "outputs": [
    {
     "data": {
      "text/html": [
       "<div>\n",
       "<style scoped>\n",
       "    .dataframe tbody tr th:only-of-type {\n",
       "        vertical-align: middle;\n",
       "    }\n",
       "\n",
       "    .dataframe tbody tr th {\n",
       "        vertical-align: top;\n",
       "    }\n",
       "\n",
       "    .dataframe thead th {\n",
       "        text-align: right;\n",
       "    }\n",
       "</style>\n",
       "<table border=\"1\" class=\"dataframe\">\n",
       "  <thead>\n",
       "    <tr style=\"text-align: right;\">\n",
       "      <th></th>\n",
       "      <th>id</th>\n",
       "      <th>site</th>\n",
       "      <th>label</th>\n",
       "      <th>tweet</th>\n",
       "    </tr>\n",
       "  </thead>\n",
       "  <tbody>\n",
       "    <tr>\n",
       "      <th>0</th>\n",
       "      <td>3364</td>\n",
       "      <td>Facebook</td>\n",
       "      <td>Irrelevant</td>\n",
       "      <td>I mentioned on Facebook that I was struggling for motivation to go for a run the other day, which has been translated by Tom’s great auntie as ‘Hayley can’t get out of bed’ and told to his grandma, who now thinks I’m a lazy, terrible person 🤣</td>\n",
       "    </tr>\n",
       "    <tr>\n",
       "      <th>1</th>\n",
       "      <td>352</td>\n",
       "      <td>Amazon</td>\n",
       "      <td>Neutral</td>\n",
       "      <td>BBC News - Amazon boss Jeff Bezos rejects claims company acted like a 'drug dealer' bbc.co.uk/news/av/busine…</td>\n",
       "    </tr>\n",
       "    <tr>\n",
       "      <th>2</th>\n",
       "      <td>8312</td>\n",
       "      <td>Microsoft</td>\n",
       "      <td>Negative</td>\n",
       "      <td>@Microsoft Why do I pay for WORD when it functions so poorly on my @SamsungUS Chromebook? 🙄</td>\n",
       "    </tr>\n",
       "    <tr>\n",
       "      <th>3</th>\n",
       "      <td>4371</td>\n",
       "      <td>CS-GO</td>\n",
       "      <td>Negative</td>\n",
       "      <td>CSGO matchmaking is so full of closet hacking, it's a truly awful game.</td>\n",
       "    </tr>\n",
       "    <tr>\n",
       "      <th>4</th>\n",
       "      <td>4433</td>\n",
       "      <td>Google</td>\n",
       "      <td>Neutral</td>\n",
       "      <td>Now the President is slapping Americans in the face that he really did commit an unlawful act after his  acquittal! From Discover on Google vanityfair.com/news/2020/02/t…</td>\n",
       "    </tr>\n",
       "  </tbody>\n",
       "</table>\n",
       "</div>"
      ],
      "text/plain": [
       "     id       site       label  \\\n",
       "0  3364   Facebook  Irrelevant   \n",
       "1   352     Amazon     Neutral   \n",
       "2  8312  Microsoft    Negative   \n",
       "3  4371      CS-GO    Negative   \n",
       "4  4433     Google     Neutral   \n",
       "\n",
       "                                                                                                                                                                                                                                                tweet  \n",
       "0  I mentioned on Facebook that I was struggling for motivation to go for a run the other day, which has been translated by Tom’s great auntie as ‘Hayley can’t get out of bed’ and told to his grandma, who now thinks I’m a lazy, terrible person 🤣  \n",
       "1                                                                                                                                       BBC News - Amazon boss Jeff Bezos rejects claims company acted like a 'drug dealer' bbc.co.uk/news/av/busine…  \n",
       "2                                                                                                                                                         @Microsoft Why do I pay for WORD when it functions so poorly on my @SamsungUS Chromebook? 🙄  \n",
       "3                                                                                                                                                                             CSGO matchmaking is so full of closet hacking, it's a truly awful game.  \n",
       "4                                                                          Now the President is slapping Americans in the face that he really did commit an unlawful act after his  acquittal! From Discover on Google vanityfair.com/news/2020/02/t…  "
      ]
     },
     "execution_count": 4,
     "metadata": {},
     "output_type": "execute_result"
    }
   ],
   "source": [
    "df = pd.read_csv('../data/twitter_validation.csv', names=['id', 'site', 'label', 'tweet'], header=None)\n",
    "df.head()"
   ]
  },
  {
   "cell_type": "code",
   "execution_count": 5,
   "id": "1084e858-c3df-4b91-b97c-376e88be1655",
   "metadata": {},
   "outputs": [
    {
     "data": {
      "text/html": [
       "<div>\n",
       "<style scoped>\n",
       "    .dataframe tbody tr th:only-of-type {\n",
       "        vertical-align: middle;\n",
       "    }\n",
       "\n",
       "    .dataframe tbody tr th {\n",
       "        vertical-align: top;\n",
       "    }\n",
       "\n",
       "    .dataframe thead th {\n",
       "        text-align: right;\n",
       "    }\n",
       "</style>\n",
       "<table border=\"1\" class=\"dataframe\">\n",
       "  <thead>\n",
       "    <tr style=\"text-align: right;\">\n",
       "      <th></th>\n",
       "      <th>tweet</th>\n",
       "    </tr>\n",
       "  </thead>\n",
       "  <tbody>\n",
       "    <tr>\n",
       "      <th>0</th>\n",
       "      <td>I mentioned on Facebook that I was struggling for motivation to go for a run the other day, which has been translated by Tom’s great auntie as ‘Hayley can’t get out of bed’ and told to his grandma, who now thinks I’m a lazy, terrible person 🤣</td>\n",
       "    </tr>\n",
       "    <tr>\n",
       "      <th>1</th>\n",
       "      <td>BBC News - Amazon boss Jeff Bezos rejects claims company acted like a 'drug dealer' bbc.co.uk/news/av/busine…</td>\n",
       "    </tr>\n",
       "    <tr>\n",
       "      <th>2</th>\n",
       "      <td>@Microsoft Why do I pay for WORD when it functions so poorly on my @SamsungUS Chromebook? 🙄</td>\n",
       "    </tr>\n",
       "    <tr>\n",
       "      <th>3</th>\n",
       "      <td>CSGO matchmaking is so full of closet hacking, it's a truly awful game.</td>\n",
       "    </tr>\n",
       "    <tr>\n",
       "      <th>4</th>\n",
       "      <td>Now the President is slapping Americans in the face that he really did commit an unlawful act after his  acquittal! From Discover on Google vanityfair.com/news/2020/02/t…</td>\n",
       "    </tr>\n",
       "  </tbody>\n",
       "</table>\n",
       "</div>"
      ],
      "text/plain": [
       "                                                                                                                                                                                                                                                tweet\n",
       "0  I mentioned on Facebook that I was struggling for motivation to go for a run the other day, which has been translated by Tom’s great auntie as ‘Hayley can’t get out of bed’ and told to his grandma, who now thinks I’m a lazy, terrible person 🤣\n",
       "1                                                                                                                                       BBC News - Amazon boss Jeff Bezos rejects claims company acted like a 'drug dealer' bbc.co.uk/news/av/busine…\n",
       "2                                                                                                                                                         @Microsoft Why do I pay for WORD when it functions so poorly on my @SamsungUS Chromebook? 🙄\n",
       "3                                                                                                                                                                             CSGO matchmaking is so full of closet hacking, it's a truly awful game.\n",
       "4                                                                          Now the President is slapping Americans in the face that he really did commit an unlawful act after his  acquittal! From Discover on Google vanityfair.com/news/2020/02/t…"
      ]
     },
     "execution_count": 5,
     "metadata": {},
     "output_type": "execute_result"
    }
   ],
   "source": [
    "df = df[['tweet']]\n",
    "df.head()"
   ]
  },
  {
   "cell_type": "code",
   "execution_count": 6,
   "id": "1f6eed23-5e01-47c9-893a-e3e83933ab3f",
   "metadata": {},
   "outputs": [],
   "source": [
    "batch_size = 2\n",
    "\n",
    "sample_df = df.sample(6)                              # the sampled df with only 100 tweets\n",
    "result_df = pd.DataFrame(columns=['Tweet', 'Tone'])     # the df where we will store the results"
   ]
  },
  {
   "cell_type": "code",
   "execution_count": 7,
   "id": "d3759a58-44bb-4d25-af23-83b9a65b73b4",
   "metadata": {},
   "outputs": [
    {
     "data": {
      "text/plain": [
       "6"
      ]
     },
     "execution_count": 7,
     "metadata": {},
     "output_type": "execute_result"
    }
   ],
   "source": [
    "sample_df.shape[0]"
   ]
  },
  {
   "cell_type": "code",
   "execution_count": 8,
   "id": "28e027fc-9b09-4880-a0e6-6ac75e791857",
   "metadata": {},
   "outputs": [],
   "source": [
    "client = OpenAI(\n",
    "    # This is the default and can be omitted\n",
    "    api_key=os.environ.get(\"OPENAI_API_KEY\"),\n",
    ")"
   ]
  },
  {
   "cell_type": "code",
   "execution_count": 23,
   "id": "901f437d-053c-43a9-861a-9f1e58c105a4",
   "metadata": {},
   "outputs": [
    {
     "name": "stdout",
     "output_type": "stream",
     "text": [
      "==============\n",
      "Neutral, Informative: \"India Bans 118 Chinese apps including PUBG #PUBG #PUBGMOBILE pic.twitter.com/4RT8ykyxM3\"\n",
      "==============\n",
      "Positive, Neutral, \"Going through this right now, great reporting by @NightCityLifeDE\"\n",
      "Negative, Neutral, \"Lol I set up this string of tinder dates a while back where I would just bail on them without messaging them. I figured I would save them the disappointment. I made up excuses later like \\u201coh you know socially this just works out fo me and makes me money so work but maye next year\"\n",
      "==============\n",
      "Positive, Neutral, \":) *Realize the Witcher was actually good*\"\n",
      "Negative, Negative, \"It’s nice not to have facebook anymore but I can’t say I hate it when my cuz tells me the latest drama. Like how Jeremy Beuss’ skinny white ass tries to spout ‘correct’ gender roles and anti-abortion/women’s health while he displays internalized homophobia and toxic masculinity\"\n"
     ]
    }
   ],
   "source": [
    "list_data = []\n",
    "for i in range(0, sample_df.shape[0], batch_size):\n",
    "    batch = sample_df['tweet'][i:i+batch_size].tolist()\n",
    "    stringified_batch = json.dumps(batch)\n",
    "    \n",
    "    response = client.chat.completions.create(\n",
    "        model=\"gpt-3.5-turbo-1106\",\n",
    "        messages=[\n",
    "            {\"role\": \"system\", \"content\": 'You are a helpful assistant that categorizes tweets into sentiment and tone. Use \"Positive\", \"Negative\", or \"Neutral\" for sentiment. For each review, please state the sentiment, tone, and the tweet. '},\n",
    "            {\"role\": \"user\", \"content\": stringified_batch}\n",
    "        ]\n",
    "    )\n",
    "    data = response.choices[0].message.content\n",
    "    print('==============')\n",
    "    print(data)"
   ]
  },
  {
   "cell_type": "code",
   "execution_count": null,
   "id": "614d0cca-4453-406c-b6e5-7be83406978f",
   "metadata": {},
   "outputs": [],
   "source": []
  },
  {
   "cell_type": "code",
   "execution_count": 14,
   "id": "bc01bba9-c242-45f4-8fb0-b3a410b201b3",
   "metadata": {},
   "outputs": [
    {
     "name": "stdout",
     "output_type": "stream",
     "text": [
      "[\n",
      "    \"{\\n  \\\"results\\\": [\\n    {\\n      \\\"sentiment\\\": \\\"Neutral\\\",\\n      \\\"tone\\\": \\\"Neutral\\\",\\n      \\\"tweet\\\": \\\"God when \\\\\\\\\\\\\\\\/\\\"\\n    },\\n    {\\n      \\\"sentiment\\\": \\\"Negative\\\",\\n      \\\"tone\\\": \\\"Neutral\\\",\\n      \\\"tweet\\\": \\\"India Bans 118 Chinese apps including PUBG #PUBG #PUBGMOBILE pic.twitter.com/4RT8ykyxM3\\\"\\n    }\\n  ]\\n}\",\n",
      "    \"{\\n  \\\"results\\\": [\\n    {\\n      \\\"sentiment\\\": \\\"Positive\\\",\\n      \\\"tone\\\": \\\"Neutral\\\",\\n      \\\"tweet\\\": \\\"Going through this right now, great reporting by @NightCityLifeDE\\\"\\n    },\\n    {\\n      \\\"sentiment\\\": \\\"Negative\\\",\\n      \\\"tone\\\": \\\"Negative\\\",\\n      \\\"tweet\\\": \\\"Lol I set up this string of tinder dates a while back where I would just bail on them without messaging them. I figured I would save them the disappointment. I made up excuses later like \\\\\\\"oh you know socially this just works out for me and makes me money so work but maybe next year\\\"\\n    }\\n  ]\\n}\",\n",
      "    \"{\\n  \\\"results\\\": [\\n    {\\n      \\\"sentiment\\\": \\\"Positive\\\",\\n      \\\"tone\\\": \\\"Mixed\\\",\\n      \\\"tweet\\\": \\\"\\\\n\\u00b0_\\u00b0 *Gets bad flashback in movie theater*\\\\n\\\\n:) *Realize the Witcher was actually good*\\\"\\n    },\\n    {\\n      \\\"sentiment\\\": \\\"Negative\\\",\\n      \\\"tone\\\": \\\"Negative\\\",\\n      \\\"tweet\\\": \\\"It\\u2019s nice not to have facebook anymore but I can\\u2019t say I hate it when my cuz tells me the latest drama. Like how Jeremy Beuss\\u2019 skinny white ass tries to spout \\u2018correct\\u2019 gender roles and anti abortion/women\\u2019s health while he displays internalized homophobia and toxic masculinity\\\"\\n    }\\n  ]\\n}\"\n",
      "]\n"
     ]
    }
   ],
   "source": [
    "# Convert the list to JSON\n",
    "json_data = json.dumps(list_data, indent=4)  # indent parameter for pretty formatting (optional)\n",
    "\n",
    "# Print or use the JSON data as needed\n",
    "print(json_data)"
   ]
  },
  {
   "cell_type": "code",
   "execution_count": 19,
   "id": "ead943fc-71ed-488c-ac7e-1ae50e56ce1c",
   "metadata": {},
   "outputs": [
    {
     "data": {
      "text/plain": [
       "'[\\n    \"{\\\\n  \\\\\"results\\\\\": [\\\\n    {\\\\n      \\\\\"sentiment\\\\\": \\\\\"Neutral\\\\\",\\\\n      \\\\\"tone\\\\\": \\\\\"Neutral\\\\\",\\\\n      \\\\\"tweet\\\\\": \\\\\"God when \\\\\\\\\\\\\\\\\\\\\\\\\\\\\\\\/\\\\\"\\\\n    },\\\\n    {\\\\n      \\\\\"sentiment\\\\\": \\\\\"Negative\\\\\",\\\\n      \\\\\"tone\\\\\": \\\\\"Neutral\\\\\",\\\\n      \\\\\"tweet\\\\\": \\\\\"India Bans 118 Chinese apps including PUBG #PUBG #PUBGMOBILE pic.twitter.com/4RT8ykyxM3\\\\\"\\\\n    }\\\\n  ]\\\\n}\",\\n    \"{\\\\n  \\\\\"results\\\\\": [\\\\n    {\\\\n      \\\\\"sentiment\\\\\": \\\\\"Positive\\\\\",\\\\n      \\\\\"tone\\\\\": \\\\\"Neutral\\\\\",\\\\n      \\\\\"tweet\\\\\": \\\\\"Going through this right now, great reporting by @NightCityLifeDE\\\\\"\\\\n    },\\\\n    {\\\\n      \\\\\"sentiment\\\\\": \\\\\"Negative\\\\\",\\\\n      \\\\\"tone\\\\\": \\\\\"Negative\\\\\",\\\\n      \\\\\"tweet\\\\\": \\\\\"Lol I set up this string of tinder dates a while back where I would just bail on them without messaging them. I figured I would save them the disappointment. I made up excuses later like \\\\\\\\\\\\\"oh you know socially this just works out for me and makes me money so work but maybe next year\\\\\"\\\\n    }\\\\n  ]\\\\n}\",\\n    \"{\\\\n  \\\\\"results\\\\\": [\\\\n    {\\\\n      \\\\\"sentiment\\\\\": \\\\\"Positive\\\\\",\\\\n      \\\\\"tone\\\\\": \\\\\"Mixed\\\\\",\\\\n      \\\\\"tweet\\\\\": \\\\\"\\\\\\\\n\\\\u00b0_\\\\u00b0 *Gets bad flashback in movie theater*\\\\\\\\n\\\\\\\\n:) *Realize the Witcher was actually good*\\\\\"\\\\n    },\\\\n    {\\\\n      \\\\\"sentiment\\\\\": \\\\\"Negative\\\\\",\\\\n      \\\\\"tone\\\\\": \\\\\"Negative\\\\\",\\\\n      \\\\\"tweet\\\\\": \\\\\"It\\\\u2019s nice not to have facebook anymore but I can\\\\u2019t say I hate it when my cuz tells me the latest drama. Like how Jeremy Beuss\\\\u2019 skinny white ass tries to spout \\\\u2018correct\\\\u2019 gender roles and anti abortion/women\\\\u2019s health while he displays internalized homophobia and toxic masculinity\\\\\"\\\\n    }\\\\n  ]\\\\n}\"\\n]'"
      ]
     },
     "execution_count": 19,
     "metadata": {},
     "output_type": "execute_result"
    }
   ],
   "source": [
    "json_data"
   ]
  },
  {
   "cell_type": "code",
   "execution_count": null,
   "id": "37397d80-6ce8-4065-bdca-3664e5a1a35d",
   "metadata": {},
   "outputs": [],
   "source": [
    "data = {\n",
    "    \"tweets\": [\n",
    "        {\"sentiment\": \"Neutral\", \"tone\": \"Neutral\", \"tweet\": \"God when \\r\"},\n",
    "        {\"sentiment\": \"Negative\", \"tone\": \"Neutral\", \"tweet\": \"India Bans 118 Chinese apps including PUBG #PUBG #PUBGMOBILE pic.twitter.com/4RT8ykyxM3\"},\n",
    "    ]\n",
    "}\n",
    "\n",
    "# Convert to DataFrame\n",
    "df = pd.DataFrame(data['tweets'])\n",
    "\n",
    "# Print or use the DataFrame as needed\n",
    "print(df)"
   ]
  }
 ],
 "metadata": {
  "kernelspec": {
   "display_name": "Python 3 (ipykernel)",
   "language": "python",
   "name": "python3"
  },
  "language_info": {
   "codemirror_mode": {
    "name": "ipython",
    "version": 3
   },
   "file_extension": ".py",
   "mimetype": "text/x-python",
   "name": "python",
   "nbconvert_exporter": "python",
   "pygments_lexer": "ipython3",
   "version": "3.9.9"
  }
 },
 "nbformat": 4,
 "nbformat_minor": 5
}
